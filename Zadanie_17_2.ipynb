{
 "cells": [
  {
   "cell_type": "code",
   "execution_count": 1,
   "id": "6e6aaec9-5abf-4a50-a5c4-b7cccf026b97",
   "metadata": {},
   "outputs": [
    {
     "name": "stderr",
     "output_type": "stream",
     "text": [
      "[nltk_data] Downloading package punkt to\n",
      "[nltk_data]     C:\\Users\\pzeleznicki\\AppData\\Roaming\\nltk_data...\n",
      "[nltk_data]   Package punkt is already up-to-date!\n",
      "C:\\Users\\pzeleznicki\\AppData\\Local\\Temp\\ipykernel_28020\\47160941.py:11: FutureWarning: Downcasting behavior in `replace` is deprecated and will be removed in a future version. To retain the old behavior, explicitly call `result.infer_objects(copy=False)`. To opt-in to the future behavior, set `pd.set_option('future.no_silent_downcasting', True)`\n",
      "  spam_dataset['Spam'] = spam_dataset['Spam'].replace(['ham', 'spam'], [0, 1])\n",
      "[nltk_data] Downloading package punkt_tab to\n",
      "[nltk_data]     C:\\Users\\pzeleznicki\\AppData\\Roaming\\nltk_data...\n",
      "[nltk_data]   Package punkt_tab is already up-to-date!\n",
      "[nltk_data] Downloading package stopwords to\n",
      "[nltk_data]     C:\\Users\\pzeleznicki\\AppData\\Roaming\\nltk_data...\n",
      "[nltk_data]   Package stopwords is already up-to-date!\n",
      "[nltk_data] Downloading package wordnet to\n",
      "[nltk_data]     C:\\Users\\pzeleznicki\\AppData\\Roaming\\nltk_data...\n",
      "[nltk_data]   Package wordnet is already up-to-date!\n"
     ]
    }
   ],
   "source": [
    "import numpy as np\n",
    "import pandas as pd\n",
    "import string\n",
    "import nltk\n",
    "import itertools\n",
    "from wordcloud import WordCloud\n",
    "import matplotlib.pyplot as plt\n",
    "from sklearn.feature_extraction.text import TfidfVectorizer\n",
    "nltk.download('punkt')\n",
    "spam_dataset = pd.read_csv('spam.csv', encoding = \"ISO-8859-1\", usecols=[0, 1], names=['Spam', 'Text'], skiprows=1)\n",
    "spam_dataset['Spam'] = spam_dataset['Spam'].replace(['ham', 'spam'], [0, 1])\n",
    "\n",
    "def remove_puncation(text):\n",
    "    cleaned = ''.join([word for word in text if word not in string.punctuation])\n",
    "    return cleaned\n",
    "spam_dataset['Cleaned_Text'] = spam_dataset['Text'].apply(lambda x: remove_puncation(x))\n",
    "\n",
    "nltk.download('punkt_tab')\n",
    "def tokenize(text):\n",
    "\n",
    "    # Usunięcie wielkich liter\n",
    "    clean_text = text.lower()\n",
    "\n",
    "    # Tokenizacja\n",
    "    tokenized_text = nltk.word_tokenize(clean_text)\n",
    "    return tokenized_text\n",
    "\n",
    "spam_dataset['Tokenized_Text'] = spam_dataset['Cleaned_Text'].apply(lambda x: tokenize(x))\n",
    "\n",
    "\n",
    "nltk.download('stopwords')\n",
    "from nltk.corpus import stopwords\n",
    "stopwords = stopwords.words('english')\n",
    "\n",
    "def remove_stopwords(text):\n",
    "    without_stopwords = [word for word in text if word not in stopwords]\n",
    "    return without_stopwords\n",
    "spam_dataset['WithoutStop_Text'] = spam_dataset['Tokenized_Text'].apply(lambda x: remove_stopwords(x))\n",
    "\n",
    "stemmer = nltk.PorterStemmer()\n",
    "def stemming(text):\n",
    "    stemmed_words = [stemmer.stem(word) for word in text]\n",
    "    return stemmed_words\n",
    "spam_dataset['Stemmed_Text'] = spam_dataset['WithoutStop_Text'].apply(lambda x: stemming(x))\n",
    "\n",
    "nltk.download('wordnet')\n",
    "lemmater = nltk.WordNetLemmatizer()\n",
    "def lemmatizing(text):\n",
    "    lemmatized_words = [lemmater.lemmatize(word) for word in text]\n",
    "    return lemmatized_words\n",
    "spam_dataset['Lemmatized_Text'] = spam_dataset['WithoutStop_Text'].apply(lambda x: lemmatizing(x))\n",
    "\n"
   ]
  },
  {
   "cell_type": "code",
   "execution_count": 2,
   "id": "50f90507-4936-4b1c-bda9-f6fb51e28756",
   "metadata": {},
   "outputs": [],
   "source": [
    "from sklearn.model_selection import train_test_split\n",
    "from sklearn.ensemble import RandomForestClassifier\n",
    "X = spam_dataset['Lemmatized_Text']\n",
    "y = spam_dataset['Spam']\n",
    "X_train, X_test, y_train, y_test = train_test_split(X, y, test_size = 0.2, random_state = 42, stratify =y)\n",
    "\n",
    "tfidf = TfidfVectorizer()\n",
    "# Uczysz słownik tylko na danych treningowych\n",
    "X_train_tfidf = tfidf.fit_transform(X_train.apply(lambda x: ' '.join(x)))\n",
    "\n",
    "# Przekształcasz testowe dane tylko transformem\n",
    "X_test_tfidf = tfidf.transform(X_test.apply(lambda x: ' '.join(x)))"
   ]
  },
  {
   "cell_type": "code",
   "execution_count": 3,
   "id": "977bd085-25ff-4178-b5e5-cd1a0569b584",
   "metadata": {},
   "outputs": [
    {
     "data": {
      "text/plain": [
       "0.8658290329818263"
      ]
     },
     "execution_count": 3,
     "metadata": {},
     "output_type": "execute_result"
    }
   ],
   "source": [
    "from sklearn.ensemble import RandomForestClassifier\n",
    "clf = RandomForestClassifier(max_depth=2, random_state=0)\n",
    "clf.fit(X_train_tfidf, y_train)\n",
    "clf.score(X_train_tfidf, y_train)"
   ]
  },
  {
   "cell_type": "code",
   "execution_count": 4,
   "id": "1535bfff-e722-4910-bf0f-b5cdfd29964c",
   "metadata": {},
   "outputs": [
    {
     "data": {
      "text/plain": [
       "0.8663677130044843"
      ]
     },
     "execution_count": 4,
     "metadata": {},
     "output_type": "execute_result"
    }
   ],
   "source": [
    "clf.score(X_test_tfidf, y_test)"
   ]
  },
  {
   "cell_type": "code",
   "execution_count": 5,
   "id": "4148d5a3-04c4-423c-8a3e-6c77a03aa84e",
   "metadata": {},
   "outputs": [
    {
     "data": {
      "text/plain": [
       "0.874439461883408"
      ]
     },
     "execution_count": 5,
     "metadata": {},
     "output_type": "execute_result"
    }
   ],
   "source": [
    "importances = clf.feature_importances_   #Sprawdza ważność cech z modelu\n",
    "feature_names = tfidf.get_feature_names_out()  #łaczy ważność z nazwami cech (słów)\n",
    "\n",
    "#Filtracja cech\n",
    "important_indices = [i for i in range(len(importances)) if importances[i] > 0.001]\n",
    "important_feature_names = [feature_names[i] for i in important_indices]\n",
    "\n",
    "#Selekcja cech w danych\n",
    "X_train_selected = X_train_tfidf[:, important_indices]\n",
    "X_test_selected = X_test_tfidf[:, important_indices]\n",
    "\n",
    "clf.fit(X_train_selected, y_train)\n",
    "clf.score(X_test_selected, y_test)"
   ]
  },
  {
   "cell_type": "code",
   "execution_count": 6,
   "id": "e7096d00-5f1a-4b58-8fca-5c20bc4237c3",
   "metadata": {},
   "outputs": [
    {
     "name": "stdout",
     "output_type": "stream",
     "text": [
      "Fitting 5 folds for each of 324 candidates, totalling 1620 fits\n",
      "Najlepsze parametry:  {'max_depth': 30, 'max_features': 'sqrt', 'min_samples_leaf': 1, 'min_samples_split': 10, 'n_estimators': 200}\n",
      "Dokładność na zbiorze testowym: 0.9686\n"
     ]
    }
   ],
   "source": [
    "from sklearn.model_selection import GridSearchCV\n",
    "\n",
    "\n",
    "param_grid = {\n",
    "    'n_estimators': [50, 100, 200],  # Liczba drzew w lesie\n",
    "    'max_depth': [10, 20, 30, None],  # Głębokość drzewa\n",
    "    'min_samples_split': [2, 5, 10],  # Minimalna liczba próbek do podziału\n",
    "    'min_samples_leaf': [1, 2, 4],    # Minimalna liczba próbek w liściu\n",
    "    'max_features': ['sqrt', 'log2', None]  # Liczba cech przy podziale\n",
    "}\n",
    "\n",
    "# Utworzenie modelu RandomForestClassifier\n",
    "rf = RandomForestClassifier(random_state=42)\n",
    "\n",
    "# Inicjalizacja GridSearchCV\n",
    "grid_search = GridSearchCV(estimator=rf, param_grid=param_grid, cv=5, scoring='accuracy', n_jobs=-1, verbose=2)\n",
    "\n",
    "grid_search.fit(X_train_selected, y_train)\n",
    "best_params = grid_search.best_params_\n",
    "print(\"Najlepsze parametry: \", best_params)\n",
    "best_model = grid_search.best_estimator_\n",
    "\n",
    "test_score = best_model.score(X_test_selected, y_test)\n",
    "print(f\"Dokładność na zbiorze testowym: {test_score:.4f}\")"
   ]
  },
  {
   "cell_type": "code",
   "execution_count": 8,
   "id": "070da762-54b3-4711-aaea-88398166dbd5",
   "metadata": {},
   "outputs": [
    {
     "name": "stdout",
     "output_type": "stream",
     "text": [
      "Dokładność (Accuracy): 0.9686\n",
      "Precyzja (Precision): 0.9688\n",
      "Czułość (Recall): 0.9686\n",
      "F1-score: 0.9671\n",
      "\n",
      "Classification Report:\n",
      "              precision    recall  f1-score   support\n",
      "\n",
      "           0       0.97      1.00      0.98       966\n",
      "           1       0.97      0.79      0.87       149\n",
      "\n",
      "    accuracy                           0.97      1115\n",
      "   macro avg       0.97      0.89      0.93      1115\n",
      "weighted avg       0.97      0.97      0.97      1115\n",
      "\n"
     ]
    },
    {
     "data": {
      "image/png": "[encoded data removed]",
      "text/plain": [
       "<Figure size 800x600 with 2 Axes>"
      ]
     },
     "metadata": {},
     "output_type": "display_data"
    }
   ],
   "source": [
    "from sklearn.metrics import accuracy_score, precision_score, recall_score, f1_score, confusion_matrix, classification_report\n",
    "import matplotlib.pyplot as plt\n",
    "import seaborn as sns\n",
    "\n",
    "# Predykcje\n",
    "y_pred = best_model.predict(X_test_selected)\n",
    "\n",
    "# Metryki klasyfikacji\n",
    "accuracy = accuracy_score(y_test, y_pred)\n",
    "precision = precision_score(y_test, y_pred, average='weighted', zero_division=0)\n",
    "recall = recall_score(y_test, y_pred, average='weighted', zero_division=0)\n",
    "f1 = f1_score(y_test, y_pred, average='weighted', zero_division=0)\n",
    "\n",
    "print(f\"Dokładność (Accuracy): {accuracy:.4f}\")\n",
    "print(f\"Precyzja (Precision): {precision:.4f}\")\n",
    "print(f\"Czułość (Recall): {recall:.4f}\")\n",
    "print(f\"F1-score: {f1:.4f}\")\n",
    "print(\"\\nClassification Report:\")\n",
    "print(classification_report(y_test, y_pred, zero_division=0))\n",
    "\n",
    "# Macierz omyłek\n",
    "cm = confusion_matrix(y_test, y_pred)\n",
    "\n",
    "# Wizualizacja macierzy omyłek\n",
    "plt.figure(figsize=(8, 6))\n",
    "sns.heatmap(cm, annot=True, fmt='d', cmap='Blues', xticklabels=best_model.classes_, yticklabels=best_model.classes_)\n",
    "plt.xlabel('Przewidywane')\n",
    "plt.ylabel('Rzeczywiste')\n",
    "plt.title('Macierz Omyłek')\n",
    "plt.tight_layout()\n",
    "plt.show()"
   ]
  },
  {
   "cell_type": "code",
   "execution_count": null,
   "id": "47f27d4b-887f-4a98-8887-c07f7168e3e9",
   "metadata": {},
   "outputs": [],
   "source": []
  }
 ],
 "metadata": {
  "kernelspec": {
   "display_name": "Python 3 (ipykernel)",
   "language": "python",
   "name": "python3"
  },
  "language_info": {
   "codemirror_mode": {
    "name": "ipython",
    "version": 3
   },
   "file_extension": ".py",
   "mimetype": "text/x-python",
   "name": "python",
   "nbconvert_exporter": "python",
   "pygments_lexer": "ipython3",
   "version": "3.13.2"
  }
 },
 "nbformat": 4,
 "nbformat_minor": 5
}
